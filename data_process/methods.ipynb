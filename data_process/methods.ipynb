{
 "cells": [
  {
   "cell_type": "code",
   "execution_count": 1,
   "metadata": {},
   "outputs": [],
   "source": [
    "import numpy as np\n",
    "import pandas as pd\n",
    "import os"
   ]
  },
  {
   "cell_type": "code",
   "execution_count": 13,
   "metadata": {},
   "outputs": [],
   "source": [
    "CARVB = []\n",
    "\n",
    "start_line, end_line = 809, 1208\n",
    "\n",
    "max_value = [0 for i in range(9)]\n",
    "\n",
    "i = 1\n",
    "# file_abr = \"./\" + str(i / 10) + \"/\"\n",
    "file_abr = \"./all/\"\n",
    "\n",
    "for j in range(4, 40, 4):\n",
    "    file = file_abr + \"A_makespan_abs_1_\" + str(j / 10) + \".txt\"\n",
    "    with open(file, \"r\") as f:\n",
    "        lines = f.readlines()\n",
    "        for line in lines[start_line - 1:end_line]:\n",
    "            values = [float(val) for val in line.strip().rstrip(',').split(\",\")]\n",
    "            CARVB.append(values[2])\n",
    "            max_value[int(j / 4 - 1)] = max(max_value[int(j / 4 - 1)], values[2])"
   ]
  },
  {
   "cell_type": "code",
   "execution_count": 20,
   "metadata": {},
   "outputs": [],
   "source": [
    "# for std\n",
    "CARVB = []\n",
    "\n",
    "start_line, end_line = 803, 1202\n",
    "\n",
    "max_value = [0 for i in range(9)]\n",
    "\n",
    "i = 1\n",
    "file_abr = \"./\" + str(i / 10) + \"/\"\n",
    "\n",
    "for j in range(4, 40, 4):\n",
    "    file = file_abr + \"makespan_abs_1_\" + str(j / 10) + \".txt\"\n",
    "    with open(file, \"r\") as f:\n",
    "        lines = f.readlines()\n",
    "        for line in lines[start_line - 1:end_line]:\n",
    "            values = [float(val) for val in line.strip().rstrip(',').split(\",\")]\n",
    "            std = np.std(values)\n",
    "            CARVB.append(std)\n",
    "            max_value[int(j / 4 - 1)] = max(max_value[int(j / 4 - 1)], std)"
   ]
  },
  {
   "cell_type": "code",
   "execution_count": 14,
   "metadata": {},
   "outputs": [],
   "source": [
    "AJLR = []\n",
    "\n",
    "start_line, end_line = 407, 806\n",
    "\n",
    "i = 1\n",
    "file_abr = \"./\" + str(i / 10) + \"/\"\n",
    "\n",
    "for j in range(4, 40, 4):\n",
    "    file = file_abr + \"A_makespan_abs_1_\" + str(j / 10) + \".txt\"\n",
    "    with open(file, \"r\") as f:\n",
    "        lines = f.readlines()\n",
    "        for line in lines[start_line - 1:end_line]:\n",
    "            values = [float(val) for val in line.strip().rstrip(',').split(\",\")]\n",
    "            AJLR.append(values[2])\n",
    "            max_value[int(j / 4 - 1)] = max(max_value[int(j / 4 - 1)], values[2])"
   ]
  },
  {
   "cell_type": "code",
   "execution_count": 21,
   "metadata": {},
   "outputs": [],
   "source": [
    "# for std\n",
    "AJLR = []\n",
    "\n",
    "start_line, end_line = 402, 801\n",
    "\n",
    "i = 1\n",
    "file_abr = \"./\" + str(i / 10) + \"/\"\n",
    "\n",
    "for j in range(4, 40, 4):\n",
    "    file = file_abr + \"makespan_abs_1_\" + str(j / 10) + \".txt\"\n",
    "    with open(file, \"r\") as f:\n",
    "        lines = f.readlines()\n",
    "        for line in lines[start_line - 1:end_line]:\n",
    "            values = [float(val) for val in line.strip().rstrip(',').split(\",\")]\n",
    "            std = np.std(values)\n",
    "            AJLR.append(std)\n",
    "            max_value[int(j / 4 - 1)] = max(max_value[int(j / 4 - 1)], std)"
   ]
  },
  {
   "cell_type": "code",
   "execution_count": 15,
   "metadata": {},
   "outputs": [],
   "source": [
    "WFD = []\n",
    "\n",
    "start_line, end_line = 5, 404\n",
    "\n",
    "i = 1\n",
    "file_abr = \"./\" + str(i / 10) + \"/\"\n",
    "\n",
    "for j in range(4, 40, 4):\n",
    "    file = file_abr + \"A_makespan_abs_1_\" + str(j / 10) + \".txt\"\n",
    "    with open(file, \"r\") as f:\n",
    "        lines = f.readlines()\n",
    "        for line in lines[start_line - 1:end_line]:\n",
    "            values = [float(val) for val in line.strip().rstrip(',').split(\",\")]\n",
    "            WFD.append(values[2])\n",
    "            max_value[int(j / 4 - 1)] = max(max_value[int(j / 4 - 1)], values[2])"
   ]
  },
  {
   "cell_type": "code",
   "execution_count": 22,
   "metadata": {},
   "outputs": [],
   "source": [
    "# for std\n",
    "WFD = []\n",
    "\n",
    "start_line, end_line = 1, 400\n",
    "\n",
    "i = 1\n",
    "file_abr = \"./\" + str(i / 10) + \"/\"\n",
    "\n",
    "for j in range(4, 40, 4):\n",
    "    file = file_abr + \"makespan_abs_1_\" + str(j / 10) + \".txt\"\n",
    "    with open(file, \"r\") as f:\n",
    "        lines = f.readlines()\n",
    "        for line in lines[start_line - 1:end_line]:\n",
    "            values = [float(val) for val in line.strip().rstrip(',').split(\",\")]\n",
    "            std = np.std(values)\n",
    "            WFD.append(std)\n",
    "            max_value[int(j / 4 - 1)] = max(max_value[int(j / 4 - 1)], std)"
   ]
  },
  {
   "cell_type": "code",
   "execution_count": 23,
   "metadata": {},
   "outputs": [],
   "source": [
    "for i in range(len(CARVB)):\n",
    "    CARVB[i] = CARVB[i] / max_value[i // 400]\n",
    "\n",
    "for i in range(len(AJLR)):\n",
    "    AJLR[i] = AJLR[i] / max_value[i // 400]\n",
    "\n",
    "for i in range(len(WFD)):\n",
    "    WFD[i] = WFD[i] / max_value[i // 400]"
   ]
  },
  {
   "cell_type": "code",
   "execution_count": 24,
   "metadata": {},
   "outputs": [],
   "source": [
    "idx = []\n",
    "util = 0.0\n",
    "for i in range(len(CARVB)):\n",
    "    if i % 400 == 0:\n",
    "        util += 0.4\n",
    "    idx.append(util)"
   ]
  },
  {
   "cell_type": "code",
   "execution_count": 25,
   "metadata": {},
   "outputs": [],
   "source": [
    "results = []\n",
    "results.append(idx)\n",
    "results.append(WFD)\n",
    "results.append(AJLR)\n",
    "results.append(CARVB)"
   ]
  },
  {
   "cell_type": "code",
   "execution_count": 26,
   "metadata": {},
   "outputs": [],
   "source": [
    "# 创建一个DataFrame对象\n",
    "df = pd.DataFrame(list(zip(*results)), columns=[\"util\", \"WFD\", \"AJLR\", \"CARVB\"])\n",
    "\n",
    "# 将数据写入Excel文件\n",
    "excel_filename = \"method.xlsx\"\n",
    "df.to_excel(excel_filename, index=False)"
   ]
  },
  {
   "cell_type": "code",
   "execution_count": null,
   "metadata": {},
   "outputs": [],
   "source": []
  },
  {
   "cell_type": "code",
   "execution_count": 52,
   "metadata": {},
   "outputs": [],
   "source": [
    "# division: carvb / ajlr\n",
    "CARVB = []\n",
    "\n",
    "start_line, end_line = 809, 1208\n",
    "\n",
    "i = 1\n",
    "# file_abr = \"./\" + str(i / 10) + \"/\"\n",
    "file_abr = \"./all/\"\n",
    "\n",
    "for j in range(4, 40, 4):\n",
    "    file = file_abr + \"A_makespan_abs_1_\" + str(j / 10) + \".txt\"\n",
    "    with open(file, \"r\") as f:\n",
    "        lines = f.readlines()\n",
    "        for line in lines[start_line - 1:end_line]:\n",
    "            values = [float(val) for val in line.strip().rstrip(',').split(\",\")]\n",
    "            CARVB.append(values[2])"
   ]
  },
  {
   "cell_type": "code",
   "execution_count": 55,
   "metadata": {},
   "outputs": [],
   "source": [
    "# for std\n",
    "CARVB = []\n",
    "\n",
    "start_line, end_line = 803, 1202\n",
    "\n",
    "i = 1\n",
    "# file_abr = \"./\" + str(i / 10) + \"/\"\n",
    "file_abr = \"./all/\"\n",
    "\n",
    "for j in range(4, 40, 4):\n",
    "    file = file_abr + \"makespan_abs_1_\" + str(j / 10) + \".txt\"\n",
    "    with open(file, \"r\") as f:\n",
    "        lines = f.readlines()\n",
    "        for line in lines[start_line - 1:end_line]:\n",
    "            values = [float(val) for val in line.strip().rstrip(',').split(\",\")]\n",
    "            std = np.std(values)\n",
    "            CARVB.append(std)"
   ]
  },
  {
   "cell_type": "code",
   "execution_count": 53,
   "metadata": {},
   "outputs": [],
   "source": [
    "AJLR = []\n",
    "\n",
    "start_line, end_line = 407, 806\n",
    "\n",
    "i = 1\n",
    "file_abr = \"./\" + str(i / 10) + \"/\"\n",
    "\n",
    "for j in range(4, 40, 4):\n",
    "    file = file_abr + \"A_makespan_abs_1_\" + str(j / 10) + \".txt\"\n",
    "    with open(file, \"r\") as f:\n",
    "        lines = f.readlines()\n",
    "        for line in lines[start_line - 1:end_line]:\n",
    "            values = [float(val) for val in line.strip().rstrip(',').split(\",\")]\n",
    "            AJLR.append(values[2])"
   ]
  },
  {
   "cell_type": "code",
   "execution_count": 57,
   "metadata": {},
   "outputs": [
    {
     "name": "stdout",
     "output_type": "stream",
     "text": [
      "0.12450465467320894\n"
     ]
    }
   ],
   "source": [
    "percent = 0\n",
    "for i in range(len(CARVB)):\n",
    "    percent += (AJLR[i] - CARVB[i]) / AJLR[i]\n",
    "percent /= len(CARVB)\n",
    "print(percent)"
   ]
  },
  {
   "cell_type": "code",
   "execution_count": 56,
   "metadata": {},
   "outputs": [],
   "source": [
    "# for std\n",
    "AJLR = []\n",
    "\n",
    "start_line, end_line = 402, 801\n",
    "\n",
    "i = 1\n",
    "file_abr = \"./\" + str(i / 10) + \"/\"\n",
    "\n",
    "for j in range(4, 40, 4):\n",
    "    file = file_abr + \"makespan_abs_1_\" + str(j / 10) + \".txt\"\n",
    "    with open(file, \"r\") as f:\n",
    "        lines = f.readlines()\n",
    "        for line in lines[start_line - 1:end_line]:\n",
    "            values = [float(val) for val in line.strip().rstrip(',').split(\",\")]\n",
    "            std = np.std(values)\n",
    "            AJLR.append(std)"
   ]
  },
  {
   "cell_type": "code",
   "execution_count": 45,
   "metadata": {},
   "outputs": [],
   "source": [
    "div = []\n",
    "for i in range(len(CARVB)):\n",
    "    div.append(CARVB[i] / AJLR[i])"
   ]
  },
  {
   "cell_type": "code",
   "execution_count": 46,
   "metadata": {},
   "outputs": [],
   "source": [
    "idx = []\n",
    "util = 0.0\n",
    "for i in range(len(CARVB)):\n",
    "    if i % 400 == 0:\n",
    "        util += 0.4\n",
    "    idx.append(util)"
   ]
  },
  {
   "cell_type": "code",
   "execution_count": 47,
   "metadata": {},
   "outputs": [],
   "source": [
    "res = []\n",
    "res.append(idx)\n",
    "res.append(div)"
   ]
  },
  {
   "cell_type": "code",
   "execution_count": 48,
   "metadata": {},
   "outputs": [],
   "source": [
    "# 创建一个DataFrame对象\n",
    "df = pd.DataFrame(list(zip(*res)), columns=[\"util\", \"div\"])\n",
    "\n",
    "# 将数据写入Excel文件\n",
    "excel_filename = \"div.xlsx\"\n",
    "df.to_excel(excel_filename, index=False)"
   ]
  },
  {
   "cell_type": "code",
   "execution_count": null,
   "metadata": {},
   "outputs": [],
   "source": []
  },
  {
   "cell_type": "code",
   "execution_count": null,
   "metadata": {},
   "outputs": [],
   "source": [
    "# percent"
   ]
  },
  {
   "cell_type": "code",
   "execution_count": null,
   "metadata": {},
   "outputs": [],
   "source": []
  },
  {
   "cell_type": "code",
   "execution_count": null,
   "metadata": {},
   "outputs": [],
   "source": []
  },
  {
   "cell_type": "code",
   "execution_count": null,
   "metadata": {},
   "outputs": [],
   "source": []
  },
  {
   "cell_type": "code",
   "execution_count": null,
   "metadata": {},
   "outputs": [],
   "source": []
  },
  {
   "cell_type": "code",
   "execution_count": null,
   "metadata": {},
   "outputs": [],
   "source": []
  }
 ],
 "metadata": {
  "kernelspec": {
   "display_name": "base",
   "language": "python",
   "name": "python3"
  },
  "language_info": {
   "codemirror_mode": {
    "name": "ipython",
    "version": 3
   },
   "file_extension": ".py",
   "mimetype": "text/x-python",
   "name": "python",
   "nbconvert_exporter": "python",
   "pygments_lexer": "ipython3",
   "version": "3.10.9"
  }
 },
 "nbformat": 4,
 "nbformat_minor": 2
}
